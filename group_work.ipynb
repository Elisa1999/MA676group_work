{
 "cells": [
  {
   "cell_type": "code",
   "execution_count": 68,
   "id": "562f51f1",
   "metadata": {},
   "outputs": [],
   "source": [
    "import pandas as pd\n",
    "import re"
   ]
  },
  {
   "cell_type": "code",
   "execution_count": 139,
   "id": "936d2a4c",
   "metadata": {},
   "outputs": [
    {
     "data": {
      "text/plain": [
       "['Ana',\n",
       " '801-456-789',\n",
       " 'Ben',\n",
       " '609 4567890',\n",
       " 'Cory',\n",
       " '(206)-345-2619',\n",
       " 'Danny',\n",
       " '6095648765']"
      ]
     },
     "execution_count": 139,
     "metadata": {},
     "output_type": "execute_result"
    }
   ],
   "source": [
    "# read a txt file and save all the contents as list, return the list\n",
    "def readtxt(file):\n",
    "    ls = []\n",
    "    with open(file) as sample:\n",
    "        for line in sample:\n",
    "            ls.append(line.rstrip())\n",
    "    return ls\n",
    "\n",
    "#check the function\n",
    "readtxt('friends.txt')"
   ]
  },
  {
   "cell_type": "code",
   "execution_count": 140,
   "id": "b9c4abbe",
   "metadata": {},
   "outputs": [
    {
     "data": {
      "text/plain": [
       "['801-456-789', '609 4567890', '(206)-345-2619', '6095648765']"
      ]
     },
     "execution_count": 140,
     "metadata": {},
     "output_type": "execute_result"
    }
   ],
   "source": [
    "def skipline(ls, start, step):\n",
    "    newls = []\n",
    "    for i in range(start, len(ls), step):\n",
    "        newls.append(ls[i])\n",
    "    return newls\n",
    "\n",
    "#check the function\n",
    "skipline(readtxt('friends.txt'),1,2)"
   ]
  },
  {
   "cell_type": "code",
   "execution_count": 142,
   "id": "cd8fba47",
   "metadata": {},
   "outputs": [
    {
     "data": {
      "text/plain": [
       "['801', '609', '206', '609']"
      ]
     },
     "execution_count": 142,
     "metadata": {},
     "output_type": "execute_result"
    }
   ],
   "source": [
    "\n",
    "def get3digit(ls, pattern):\n",
    "    newls = []\n",
    "    for i in ls:\n",
    "       x = re.search(pattern, i)\n",
    "       newls.append(x.group())\n",
    "    return newls\n",
    "\n",
    "def removels(ls):\n",
    "    newls = []\n",
    "    for i in ls:\n",
    "        if(len(i) > 3):\n",
    "            x = re.split('^\\(', i)[1]\n",
    "            newls.append(x)\n",
    "        else: \n",
    "            x = i\n",
    "            newls.append(x)\n",
    "    return newls\n",
    "\n",
    "#check function\n",
    "get3digit(skipline(readtxt('friends.txt'),1,2), pattern)\n",
    "\n",
    "#check function removels\n",
    "ls = get3digit(skipline(readtxt('friends.txt'),1,2), pattern)\n",
    "removels(ls)"
   ]
  },
  {
   "cell_type": "code",
   "execution_count": 143,
   "id": "2c21dabe",
   "metadata": {},
   "outputs": [],
   "source": [
    "# return a dataframe with joined table\n",
    "#file1 is the txt need pre processing\n",
    "def matchtxt(file1, file2, pattern, step):\n",
    "    ls1 = removels(get3digit(skipline(readtxt(file1),1, step), pattern))\n",
    "    ls2 = skipline(readtxt(file1),0, step)\n",
    "    ls3 = skipline(readtxt(file2),1, step)\n",
    "    ls4 = skipline(readtxt(file2),0, step)\n",
    "    dat_1 = pd.DataFrame({'tel': ls1,'name': ls2}, columns=['tel', 'name'])\n",
    "    dat_2 = pd.DataFrame({'state': ls3,'tel': ls4}, columns=['state', 'tel'])\n",
    "    return dat_1.merge(dat_2, on = 'tel', how = 'left')"
   ]
  },
  {
   "cell_type": "code",
   "execution_count": 144,
   "id": "b7dc63a3",
   "metadata": {},
   "outputs": [
    {
     "data": {
      "text/html": [
       "<div>\n",
       "<style scoped>\n",
       "    .dataframe tbody tr th:only-of-type {\n",
       "        vertical-align: middle;\n",
       "    }\n",
       "\n",
       "    .dataframe tbody tr th {\n",
       "        vertical-align: top;\n",
       "    }\n",
       "\n",
       "    .dataframe thead th {\n",
       "        text-align: right;\n",
       "    }\n",
       "</style>\n",
       "<table border=\"1\" class=\"dataframe\">\n",
       "  <thead>\n",
       "    <tr style=\"text-align: right;\">\n",
       "      <th></th>\n",
       "      <th>tel</th>\n",
       "      <th>name</th>\n",
       "      <th>state</th>\n",
       "    </tr>\n",
       "  </thead>\n",
       "  <tbody>\n",
       "    <tr>\n",
       "      <th>0</th>\n",
       "      <td>801</td>\n",
       "      <td>Ana</td>\n",
       "      <td>Utah</td>\n",
       "    </tr>\n",
       "    <tr>\n",
       "      <th>1</th>\n",
       "      <td>609</td>\n",
       "      <td>Ben</td>\n",
       "      <td>New Jersey</td>\n",
       "    </tr>\n",
       "    <tr>\n",
       "      <th>2</th>\n",
       "      <td>206</td>\n",
       "      <td>Cory</td>\n",
       "      <td>Washington</td>\n",
       "    </tr>\n",
       "    <tr>\n",
       "      <th>3</th>\n",
       "      <td>609</td>\n",
       "      <td>Danny</td>\n",
       "      <td>New Jersey</td>\n",
       "    </tr>\n",
       "  </tbody>\n",
       "</table>\n",
       "</div>"
      ],
      "text/plain": [
       "   tel   name       state\n",
       "0  801    Ana        Utah\n",
       "1  609    Ben  New Jersey\n",
       "2  206   Cory  Washington\n",
       "3  609  Danny  New Jersey"
      ]
     },
     "execution_count": 144,
     "metadata": {},
     "output_type": "execute_result"
    }
   ],
   "source": [
    "pattern = '^[0-9]{3}|^\\([0-9]{3}'\n",
    "matchtxt('friends.txt', 'map_areacodes_states.txt', pattern, 2)"
   ]
  }
 ],
 "metadata": {
  "kernelspec": {
   "display_name": "Python 3 (ipykernel)",
   "language": "python",
   "name": "python3"
  },
  "language_info": {
   "codemirror_mode": {
    "name": "ipython",
    "version": 3
   },
   "file_extension": ".py",
   "mimetype": "text/x-python",
   "name": "python",
   "nbconvert_exporter": "python",
   "pygments_lexer": "ipython3",
   "version": "3.7.11"
  }
 },
 "nbformat": 4,
 "nbformat_minor": 5
}
